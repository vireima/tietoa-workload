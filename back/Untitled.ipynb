{
 "cells": [
  {
   "cell_type": "code",
   "execution_count": 11,
   "id": "19f3af34-b0f3-4fad-a61d-a0ef2f93f00c",
   "metadata": {},
   "outputs": [],
   "source": [
    "from back.config import settings\n",
    "from datetime import datetime\n",
    "import arrow\n",
    "\n",
    "from motor.motor_asyncio import (\n",
    "    AsyncIOMotorClient,\n",
    "    AsyncIOMotorCollection,\n",
    "    AsyncIOMotorCursor,\n",
    "    AsyncIOMotorDatabase,\n",
    ")\n",
    "\n",
    "client = AsyncIOMotorClient(str(settings.mongo_url))\n",
    "\n",
    "workload_db = client[settings.mongo_db]\n",
    "workload_collection = workload_db[settings.mongo_collection]"
   ]
  },
  {
   "cell_type": "code",
   "execution_count": 15,
   "id": "09a749a9-0135-4959-a88d-1f26545bf251",
   "metadata": {},
   "outputs": [
    {
     "data": {
      "text/plain": [
       "<module 'back.models' from 'C:\\\\Users\\\\vireima\\\\tietoa-workload\\\\back\\\\back\\\\models.py'>"
      ]
     },
     "execution_count": 15,
     "metadata": {},
     "output_type": "execute_result"
    }
   ],
   "source": [
    "from datetime import datetime\n",
    "from importlib import reload\n",
    "import back.loads\n",
    "import back.models\n",
    "reload(back.loads)\n",
    "reload(back.models)\n",
    "\n"
   ]
  },
  {
   "cell_type": "code",
   "execution_count": 9,
   "id": "b0c5ca45-c1d0-4a7a-af43-86531faad76e",
   "metadata": {},
   "outputs": [
    {
     "name": "stderr",
     "output_type": "stream",
     "text": [
      "\u001b[32m2024-02-02 08:04:49.329\u001b[0m | \u001b[33m\u001b[1mWARNING \u001b[0m | \u001b[36mback.mongo\u001b[0m:\u001b[36mget_loads\u001b[0m:\u001b[36m78\u001b[0m - \u001b[33m\u001b[1m{'datetime': {'$gte': datetime.datetime(2024, 1, 11, 0, 0, tzinfo=<DstTzInfo 'Europe/Helsinki' EET+2:00:00 STD>)}}\u001b[0m\n"
     ]
    }
   ],
   "source": [
    "df = await back.loads.loads(back.models.LoadQueryInputModelWithLists(after=datetime(2024, 1, 11)))"
   ]
  },
  {
   "cell_type": "code",
   "execution_count": 65,
   "id": "d2fb9f27-b917-40a2-a346-e33dfee5c062",
   "metadata": {},
   "outputs": [
    {
     "data": {
      "text/plain": [
       "7.5"
      ]
     },
     "execution_count": 65,
     "metadata": {},
     "output_type": "execute_result"
    }
   ],
   "source": [
    "from datetime import timedelta\n",
    "df[\"date\"] = df.datetime.dt.normalize()\n",
    "iso = df.datetime.dt.isocalendar()\n",
    "df[\"week\"] = iso[\"year\"].astype(str) + iso[\"week\"].astype(str).str.pad(2, fillchar='0')\n",
    "df\n",
    "groups = df.groupby([\"week\", \"user\"])\n",
    "\n",
    "groups[[\"mentalload\"]].count().mean()[\"mentalload\"]\n",
    "# df.dtypes\n",
    "# df.rolling(window=timedelta(days=4), on=\"date\", min_periods=1, closed=\"both\").count()"
   ]
  },
  {
   "cell_type": "code",
   "execution_count": 105,
   "id": "9f3ae4f7-b10d-4f4c-8d58-2a91456e8b0d",
   "metadata": {},
   "outputs": [
    {
     "data": {
      "text/plain": [
       "<pandas.core.groupby.generic.DataFrameGroupBy object at 0x00000168A1314890>"
      ]
     },
     "execution_count": 105,
     "metadata": {},
     "output_type": "execute_result"
    }
   ],
   "source": [
    "iso = df.datetime.dt.isocalendar()\n",
    "df[\"week\"] = iso[\"year\"].astype(str) + iso[\"week\"].astype(str).str.pad(\n",
    "    2, fillchar=\"0\"\n",
    ")\n",
    "g = df.groupby(\"week\")\n",
    "pdg"
   ]
  },
  {
   "cell_type": "code",
   "execution_count": 7,
   "id": "a1993afc-e677-4eb7-9aa7-ac69ffea3e5e",
   "metadata": {},
   "outputs": [
    {
     "data": {
      "text/plain": [
       "<pandas.core.groupby.generic.DataFrameGroupBy object at 0x000001E72378CC10>"
      ]
     },
     "execution_count": 7,
     "metadata": {},
     "output_type": "execute_result"
    }
   ],
   "source": [
    "# back.loads.calculate_stats(df)\n",
    "iso = df.datetime.dt.isocalendar()\n",
    "df[\"week\"] = iso[\"year\"].astype(str) + iso[\"week\"].astype(str).str.pad(\n",
    "    2, fillchar=\"0\"\n",
    ")\n",
    "df.groupby([\"week\"])\n"
   ]
  },
  {
   "cell_type": "code",
   "execution_count": 16,
   "id": "12e09e3a-3118-40a2-938a-ab62417bddf6",
   "metadata": {},
   "outputs": [
    {
     "name": "stdout",
     "output_type": "stream",
     "text": [
      "mentalload    0.489104\n",
      "workload      0.549194\n",
      "dtype: float64\n",
      "mentalload    7.833333\n",
      "dtype: float64\n",
      "mentalload    0.554756\n",
      "workload      0.620253\n",
      "dtype: float64\n",
      "mentalload    10.75\n",
      "dtype: float64\n"
     ]
    },
    {
     "data": {
      "text/plain": [
       "{'weekly': {'mean_mentalload': 0.4891039215686275,\n",
       "  'mean_workload': 0.5491941176470588,\n",
       "  'mean_count': 7.833333333333333},\n",
       " 'latest': {'mean_mentalload': 0.5547555555555556,\n",
       "  'mean_workload': 0.6202527777777778,\n",
       "  'mean_count': 10.75}}"
      ]
     },
     "execution_count": 16,
     "metadata": {},
     "output_type": "execute_result"
    }
   ],
   "source": [
    "back.loads.calculate_stats(df)"
   ]
  },
  {
   "cell_type": "code",
   "execution_count": null,
   "id": "247ab7c7-2cf9-4790-b3dc-304a0d41350f",
   "metadata": {},
   "outputs": [],
   "source": []
  }
 ],
 "metadata": {
  "kernelspec": {
   "display_name": "Python 3 (ipykernel)",
   "language": "python",
   "name": "python3"
  },
  "language_info": {
   "codemirror_mode": {
    "name": "ipython",
    "version": 3
   },
   "file_extension": ".py",
   "mimetype": "text/x-python",
   "name": "python",
   "nbconvert_exporter": "python",
   "pygments_lexer": "ipython3",
   "version": "3.11.0"
  }
 },
 "nbformat": 4,
 "nbformat_minor": 5
}
