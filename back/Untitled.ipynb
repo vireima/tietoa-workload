{
 "cells": [
  {
   "cell_type": "code",
   "execution_count": 10,
   "id": "19f3af34-b0f3-4fad-a61d-a0ef2f93f00c",
   "metadata": {},
   "outputs": [],
   "source": [
    "from back.config import settings\n",
    "from datetime import datetime\n",
    "import arrow\n",
    "\n",
    "from motor.motor_asyncio import (\n",
    "    AsyncIOMotorClient,\n",
    "    AsyncIOMotorCollection,\n",
    "    AsyncIOMotorCursor,\n",
    "    AsyncIOMotorDatabase,\n",
    ")\n",
    "\n",
    "client = AsyncIOMotorClient(str(settings.mongo_url))\n",
    "\n",
    "workload_db = client[settings.mongo_db]\n",
    "workload_collection = workload_db[settings.mongo_collection]\n",
    "\n",
    "d = await workload_collection.find({}).to_list(None)\n",
    "\n",
    "for x in d:\n",
    "    if isinstance(x['datetime'], str):\n",
    "        print(x)\n",
    "        print(arrow.get(x['datetime']))\n",
    "        # workload_collection.update_one(\n",
    "        #     {\"_id\": x['_id']}, {\"$set\": {'datetime':arrow.get(x['datetime']).datetime}}\n",
    "        # )"
   ]
  },
  {
   "cell_type": "code",
   "execution_count": null,
   "id": "e2efd17e-dc4b-4b57-84a4-d3ed5b8b034e",
   "metadata": {},
   "outputs": [],
   "source": []
  },
  {
   "cell_type": "code",
   "execution_count": null,
   "id": "d8e854c8-b9e7-4d1d-8423-1f786173730e",
   "metadata": {},
   "outputs": [],
   "source": []
  }
 ],
 "metadata": {
  "kernelspec": {
   "display_name": "Python 3 (ipykernel)",
   "language": "python",
   "name": "python3"
  },
  "language_info": {
   "codemirror_mode": {
    "name": "ipython",
    "version": 3
   },
   "file_extension": ".py",
   "mimetype": "text/x-python",
   "name": "python",
   "nbconvert_exporter": "python",
   "pygments_lexer": "ipython3",
   "version": "3.11.0"
  }
 },
 "nbformat": 4,
 "nbformat_minor": 5
}
